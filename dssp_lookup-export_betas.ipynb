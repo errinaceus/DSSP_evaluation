{
 "cells": [
  {
   "cell_type": "code",
   "execution_count": 3,
   "id": "6ba5fd15",
   "metadata": {},
   "outputs": [
    {
     "name": "stdout",
     "output_type": "stream",
     "text": [
      "[\"['EMF2_ARATH']\", \"['FIS2C_ARATH']\", \"['IDD13_ARATH']\", \"['SRRT_ARATH']_1\", \"['STOP1_ARATH']\", \"['STOP2_ARATH']\", \"['Q8VZP2_ARATH']\", \"['F4HPX2_ARATH']\", \"['Q9FM27_ARATH']\"]\n",
      "[\"['BTD_DROME']\", \"['OUIB_DROME']_1\", \"['SUZ12_DROME']\", \"['TEF_DROME']\", \"['TOPI_DROME']_2\", \"['TTKA_DROME']_2\", \"['Q9VE63_DROME']\", \"['Q1LZ24_DROME']\", \"['Q7K1V0_DROME']_9\", \"['B9A0M7_DROME']_4\", \"['Q9V9Q2_DROME']_4\", \"['Q9W3J9_DROME']\", \"['Q8IGP5_DROME']\", \"['Q8IGP5_DROME']_1\", \"['Q9VPQ3_DROME']\", \"['Q9W403_DROME']_3\", \"['Q5BIC3_DROME']\", \"['Q8MSB3_DROME']\", \"['Q9W3J2_DROME']\", \"['Q8T007_DROME']_1\", \"['Q8T007_DROME']_4\", \"['Q8T007_DROME']_7\", \"['Q8T007_DROME']_11\", \"['Q9VUS0_DROME']\", \"['Q9VUS0_DROME']_1\", \"['Q9VKC4_DROME']_1\", \"['A1Z9K0_DROME']\", \"['Q8INE2_DROME']_1\", \"['Q9VBX4_DROME']\", \"['Q9VBX4_DROME']_1\", \"['Q9VI24_DROME']_1\", \"['A1Z995_DROME']\", \"['Q9VGA4_DROME']_2\"]\n",
      "[\"['PRD10_DANRE']_9\", \"['PRD10_DANRE']_10\", \"['O93311_DANRE']\", \"['F1QVF4_DANRE']_4\", \"['Q68EH4_DANRE']_1\", \"['I3ITC3_DANRE']_5\", \"['X1WHR9_DANRE']\", \"['H0WFH9_DANRE']\", \"['A8DU70_DANRE']_1\", \"['Q6PV84_DANRE']\", \"['E7F453_DANRE']\", \"['E9QH90_DANRE']_8\", \"['A8DZG6_DANRE']_11\", \"['E7F311_DANRE']\", \"['E7EXX9_DANRE']\", \"['F8W4G4_DANRE']\", \"['I3ISP6_DANRE']\", \"['I3ISP6_DANRE']_1\", \"['F1QXP1_DANRE']_1\", \"['U3JAE4_DANRE']_4\", \"['E7FBX7_DANRE']\", \"['E7F342_DANRE']_2\", \"['F6PFI6_DANRE']_2\", \"['F6NW08_DANRE']_1\", \"['H0WEF1_DANRE']\", \"['E9QDF1_DANRE']_14\", \"['A0A1D5NS60_DANRE']_1\", \"['E9QCQ3_DANRE']_17\", \"['F1QLG5_DANRE']_5\", \"['F1R7D7_DANRE']_1\", \"['B0S8G9_DANRE']_3\", \"['F1QEY1_DANRE']_1\", \"['A5WWL2_DANRE']\", \"['Q5RGV4_DANRE']_1\", \"['F1QP55_DANRE']\"]\n",
      "[\"['ADNP2_HUMAN']_5\", \"['CBLL2_HUMAN']_1\", \"['CHAP1_HUMAN']_1\", \"['CHAP1_HUMAN']_2\", \"['CK095_HUMAN']\", \"['CK095_HUMAN']_1\", \"['CK095_HUMAN']_3\", \"['CPXCR_HUMAN']\", \"['GTD2B_HUMAN']_2\", \"['HAKAI_HUMAN']_1\", \"['IKZF3_HUMAN']_4\", \"['KAISO_HUMAN']_1\", \"['OVOL2_HUMAN']\", \"['PRD13_HUMAN']_1\", \"['PRDM1_HUMAN']_1\", \"['SUZ12_HUMAN']\", \"['Z3H7B_HUMAN']_4\", \"['Z518B_HUMAN']_3\", \"['Z585A_HUMAN']_1\", \"['Z585B_HUMAN']_1\", \"['ZBT41_HUMAN']_2\", \"['ZBTB4_HUMAN']_2\", \"['ZFHX2_HUMAN']_6\", \"['ZFP2_HUMAN']\", \"['ZN142_HUMAN']_17\", \"['ZN251_HUMAN']_1\", \"['ZN274_HUMAN']_3\", \"['ZN292_HUMAN']_8\", \"['ZN335_HUMAN']\", \"['ZN415_HUMAN']\", \"['ZN462_HUMAN']_2\", \"['ZN462_HUMAN']_23\", \"['ZN568_HUMAN']_1\", \"['ZN621_HUMAN']_1\", \"['ZN639_HUMAN']_5\", \"['ZN662_HUMAN']_1\", \"['ZN710_HUMAN']\", \"['ZN740_HUMAN']\", \"['ZN879_HUMAN']_1\", \"['ZNF77_HUMAN']_1\", \"['ZNF84_HUMAN']_1\", \"['ZN683_HUMAN']\", \"['ADNP_HUMAN']_5\", \"['ZN800_HUMAN']_7\"]\n"
     ]
    }
   ],
   "source": [
    "#requires Biopython library\n",
    "#!pip install biopython\n",
    "WINDOW=15 # range within the search for secondary structure is performed\n",
    "from Bio import SeqIO\n",
    "from Bio.Seq import Seq\n",
    "from Bio.SeqRecord import SeqRecord\n",
    "import pandas as pd\n",
    "import regex\n",
    "import os\n",
    "import glob\n",
    "#function for searching for the presence of additional secondary structure elements and \n",
    "#export of domain sequences with these elements \n",
    "# using associated fasta file and csv file with secondary structure information in DSSP format\n",
    "def dssp_check(data,fasta,dssp_data):\n",
    "    records = list(SeqIO.parse(fasta, \"fasta\"))\n",
    "    fastas={'id':[],'seq':[],'name':[]}\n",
    "    for i in range(len(records)):\n",
    "        fastas['id'].append(records[i].id.split(sep='|')[1])\n",
    "        fastas['seq'].append(str(records[i].seq))\n",
    "        fastas['name'].append(str(records[i].id.split(sep='|')[2]))\n",
    "    fasta_df=pd.DataFrame(fastas)\n",
    "    protein_ids=[]\n",
    "    domain_seq=[] #sequences of found domains\n",
    "    domain_names=[] #Uniprot identifiers\n",
    "    for index,protein in data.iterrows():\n",
    "        domains=protein[0].split(sep='\\t')\n",
    "        dssp_ss=list(dssp_data[dssp_data['short_names']==domains[0].split(sep='|')[0]]['ss'])\n",
    "        protein_id=domains[0].split(sep='|')[0]\n",
    "        # the search string, E means beta-strand, H - alpha-helix\n",
    "        pattern_string = 'EEEEEE' #modify accordingly\n",
    "        #means that no more than two insertions or two substitutions are allowed\n",
    "        r = regex.compile('(%s){i<=2,s<=2}' % pattern_string) \n",
    "        sequence=list(fasta_df[fasta_df['id']==domains[0].split(sep='|')[0]]['seq'])\n",
    "        name=list(fasta_df[fasta_df['id']==domains[0].split(sep='|')[0]]['name'])\n",
    "        domains_list={\n",
    "             'start':[],\n",
    "             'stop':[],\n",
    "             'name':[],\n",
    "        }\n",
    "        for domain in domains:\n",
    "            d=domain.split(sep='|')\n",
    "            if len(d) ==5:\n",
    "                domains_list['start'].append(d[1])\n",
    "                domains_list['stop'].append(d[2])\n",
    "                domains_list['name'].append(d[4])\n",
    "        domains_df=pd.DataFrame(domains_list)\n",
    "        for znf in range(len(domains_df['start'])):\n",
    "            if domains_df['name'][znf] == 'ZnF_C2H2': #replace domain name accordingly\n",
    "                try:\n",
    "                    if r.search(str(dssp_ss)[(int(domains_df['start'][znf])-WINDOW):(int(domains_df['start'][znf])-2)]):\n",
    "                        # checking that no other domain is present in search range\n",
    "                        if znf==0:\n",
    "                            domain_seq.append(str(sequence)[(int(domains_df['start'][znf])-WINDOW):(int(domains_df['stop'][znf])+5)])\n",
    "                            domain_names.append(str(name))\n",
    "                        else:\n",
    "                            if int(domains_df['stop'][znf-1])<(int(domains_df['start'][znf])-WINDOW):\n",
    "                                domain_seq.append(str(sequence)[(int(domains_df['start'][znf])-WINDOW-5):(int(domains_df['stop'][znf])+5)])\n",
    "                                domain_names.append(str(name)+\"_\"+str(znf))\n",
    "                except:\n",
    "                    None\n",
    "    print(domain_names)             \n",
    "    return domain_seq,domain_names\n",
    "#batch processing of multiple files\n",
    "for file in glob.glob(\"*.txt\"):\n",
    "        data =pd.read_csv(file, skiprows=[0,1,2,3,4,5,6,7,8,9,10,11] )\n",
    "        name=os.path.basename(file)\n",
    "        base_name=name.split(sep='.')[0]\n",
    "        dssp_file=os.path.join(base_name+'.csv')\n",
    "        fasta=os.path.join(base_name+'.fasta')\n",
    "        dssp_pred=pd.read_csv(dssp_file)\n",
    "        domain_sequences,domain_names = dssp_check(data,fasta,dssp_pred)\n",
    "        dssp_name=os.path.join(base_name+'_dssp_beta_sequences.fasta')\n",
    "        ofile = open(dssp_name, \"w\")\n",
    "        for i in range(len(domain_sequences)):\n",
    "            ofile.write(\">\" + domain_names[i] + \"\\n\" +domain_sequences[i] + \"\\n\")\n",
    "        ofile.close()"
   ]
  },
  {
   "cell_type": "code",
   "execution_count": null,
   "id": "0cb04160",
   "metadata": {},
   "outputs": [],
   "source": []
  }
 ],
 "metadata": {
  "kernelspec": {
   "display_name": "Python 3 (ipykernel)",
   "language": "python",
   "name": "python3"
  },
  "language_info": {
   "codemirror_mode": {
    "name": "ipython",
    "version": 3
   },
   "file_extension": ".py",
   "mimetype": "text/x-python",
   "name": "python",
   "nbconvert_exporter": "python",
   "pygments_lexer": "ipython3",
   "version": "3.11.4"
  }
 },
 "nbformat": 4,
 "nbformat_minor": 5
}
