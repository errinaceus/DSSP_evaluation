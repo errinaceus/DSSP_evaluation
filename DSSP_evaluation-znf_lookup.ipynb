{
 "cells": [
  {
   "cell_type": "code",
   "execution_count": 4,
   "id": "0eedf6a2",
   "metadata": {},
   "outputs": [],
   "source": [
    "import re\n",
    "import glob\n",
    "import pandas as pd\n",
    "from Bio import SeqIO\n",
    "from Bio.Seq import Seq\n",
    "from Bio.SeqRecord import SeqRecord\n",
    "from Bio.PDB.PDBParser import PDBParser\n",
    "from Bio.PDB.Polypeptide import PPBuilder\n",
    "from Bio.PDB import PDBParser\n",
    "from Bio.PDB.DSSP import DSSP"
   ]
  },
  {
   "cell_type": "code",
   "execution_count": 8,
   "id": "28210ebc",
   "metadata": {},
   "outputs": [
    {
     "name": "stdout",
     "output_type": "stream",
     "text": [
      "a\n",
      "Q6IQ32\n"
     ]
    }
   ],
   "source": [
    "short_names_list = [] #list for UniProt identifiers\n",
    "s_list = [] #list for protein sequences\n",
    "#the function to convert the list to str\n",
    "def join_strs(strs):\n",
    "    result = ''\n",
    "    for s in strs:\n",
    "        result += s\n",
    "    return result\n",
    "merged_list=list()  \n",
    "#parsing of associated fasta file\n",
    "fasta='Homo_sapiens.fasta'\n",
    "records = list(SeqIO.parse(fasta, \"fasta\"))\n",
    "fastas={'id':[],'seq':[],'name':[]}\n",
    "for i in range(len(records)):\n",
    "    fastas['id'].append(records[i].id.split(sep='|')[1])\n",
    "    fastas['seq'].append(str(records[i].seq))\n",
    "    fastas['name'].append(str(records[i].id.split(sep='|')[2]))\n",
    "for file in glob.glob(r'UP000005640_9606_HUMAN_v4/*.pdb'): #searching of all pdb files\n",
    "    try:\n",
    "        merged='a' #dummy for merged list of secondary structure elements\n",
    "        x=' '.join(re.findall(r'-(.+?)-', file)) #parsing of UniProt identifier from pdb filename from AlphaFold \n",
    "        if x in fastas['id']:\n",
    "            print(x)\n",
    "            #running of the DSSP program\n",
    "            structure = PDBParser().get_structure(x, file)\n",
    "            ppb=PPBuilder()\n",
    "            for pp in ppb.build_peptides(structure):\n",
    "                y=pp.get_sequence()\n",
    "            new_list=list()\n",
    "            model = structure[0]\n",
    "            dssp = DSSP(model, file, dssp=\"mkdssp\")\n",
    "            for symbol in range(len(str(y))): #retrieving the secondary structure data from DSSP output\n",
    "                a_key = list(dssp.keys())[symbol] \n",
    "                dssp_list=dssp[a_key]\n",
    "                new_list.append(str(dssp_list[2])) \n",
    "            merged=join_strs(new_list) #merging of symbols from DSSP output into the string\n",
    "            merged_list.append(merged) #appending the data to list of secondary structures\n",
    "    except:\n",
    "        print(merged)\n",
    "    if merged!='a': #only if DSSP running was successful, Uniprot id and primary sequence will be appended\n",
    "        x=' '.join(re.findall(r'-(.+?)-', file)) \n",
    "        short_names_list.append(x)\n",
    "        s_list.append(str(y))\n",
    "#creating and exporting to csv the dataframe consisting of UniProt ids, primary and secondary structure\n",
    "df = pd.DataFrame(columns=['short_names', 'seq', 'ss']) \n",
    "df['short_names']=short_names_list\n",
    "df['seq']=s_list\n",
    "df['ss']=merged_list\n",
    "df\n",
    "df.to_csv('Homo_sapiens.csv')"
   ]
  },
  {
   "cell_type": "code",
   "execution_count": 7,
   "id": "976be94a",
   "metadata": {},
   "outputs": [],
   "source": []
  }
 ],
 "metadata": {
  "kernelspec": {
   "display_name": "Python 3 (ipykernel)",
   "language": "python",
   "name": "python3"
  },
  "language_info": {
   "codemirror_mode": {
    "name": "ipython",
    "version": 3
   },
   "file_extension": ".py",
   "mimetype": "text/x-python",
   "name": "python",
   "nbconvert_exporter": "python",
   "pygments_lexer": "ipython3",
   "version": "3.11.4"
  }
 },
 "nbformat": 4,
 "nbformat_minor": 5
}
